{
 "cells": [
  {
   "cell_type": "markdown",
   "id": "62036bad",
   "metadata": {},
   "source": [
    "    Define a function called is_prime that takes one integer as input.\n",
    "    Return True if the number is prime and False otherwise.\n",
    "    Use a loop to check divisibility — don’t use any external libraries or built-in prime checkers."
   ]
  },
  {
   "cell_type": "code",
   "execution_count": 1,
   "id": "577dcf82",
   "metadata": {},
   "outputs": [
    {
     "name": "stdout",
     "output_type": "stream",
     "text": [
      "True\n",
      "False\n",
      "True\n"
     ]
    }
   ],
   "source": [
    "def is_prime(x):\n",
    "    if x <= 1:\n",
    "        return False\n",
    "    \n",
    "    for n in range(2, x):\n",
    "        if x % n == 0:\n",
    "            return False\n",
    "        \n",
    "    return True\n",
    "\n",
    "print(is_prime(2))\n",
    "print(is_prime(-1))\n",
    "print(is_prime(7))"
   ]
  }
 ],
 "metadata": {
  "kernelspec": {
   "display_name": "Python 3",
   "language": "python",
   "name": "python3"
  },
  "language_info": {
   "codemirror_mode": {
    "name": "ipython",
    "version": 3
   },
   "file_extension": ".py",
   "mimetype": "text/x-python",
   "name": "python",
   "nbconvert_exporter": "python",
   "pygments_lexer": "ipython3",
   "version": "3.13.1"
  }
 },
 "nbformat": 4,
 "nbformat_minor": 5
}
