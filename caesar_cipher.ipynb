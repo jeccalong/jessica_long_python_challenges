{
 "cells": [
  {
   "cell_type": "markdown",
   "id": "095802fe",
   "metadata": {},
   "source": [
    "    Define a function called caesar_cipher that accepts:\n",
    "        a string text\n",
    "        an integer shift\n",
    "    Return a new string with each alphabetical character shifted by the shift amount.\n",
    "    Keep the case (uppercase/lowercase) the same.\n",
    "    Do not change non-letter characters like punctuation, spaces, or numbers."
   ]
  },
  {
   "cell_type": "code",
   "execution_count": 3,
   "id": "facb0e8c",
   "metadata": {},
   "outputs": [
    {
     "name": "stdout",
     "output_type": "stream",
     "text": [
      "Ojxxnhf Qtsl!\n"
     ]
    }
   ],
   "source": [
    "def caesar_cipher(text, shift):\n",
    "    after = \"\"\n",
    "\n",
    "    for char in text:\n",
    "        if char.isalpha():\n",
    "            base = ord('A') if char.isupper() else ord('a')\n",
    "            shifted = (ord(char) - base + shift) % 26 + base\n",
    "            after += chr(shifted)\n",
    "\n",
    "        else:\n",
    "            after += char\n",
    "\n",
    "    return after\n",
    "\n",
    "print(caesar_cipher(\"Jessica Long!\", 5))"
   ]
  }
 ],
 "metadata": {
  "kernelspec": {
   "display_name": "Python 3",
   "language": "python",
   "name": "python3"
  },
  "language_info": {
   "codemirror_mode": {
    "name": "ipython",
    "version": 3
   },
   "file_extension": ".py",
   "mimetype": "text/x-python",
   "name": "python",
   "nbconvert_exporter": "python",
   "pygments_lexer": "ipython3",
   "version": "3.13.1"
  }
 },
 "nbformat": 4,
 "nbformat_minor": 5
}
