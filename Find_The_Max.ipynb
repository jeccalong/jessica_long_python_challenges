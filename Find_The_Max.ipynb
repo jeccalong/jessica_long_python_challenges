{
 "cells": [
  {
   "cell_type": "markdown",
   "id": "51d7c726",
   "metadata": {},
   "source": [
    "    Define a function called find_max that accepts a list of integers or floats.\n",
    "    Return the largest number in the list.\n",
    "    Do not use the built-in max() function — try to solve it manually using:\n",
    "        A for loop to check each number\n",
    "        A variable to track the current maximum"
   ]
  },
  {
   "cell_type": "code",
   "execution_count": 6,
   "id": "5edb418b",
   "metadata": {},
   "outputs": [
    {
     "data": {
      "text/plain": [
       "-2"
      ]
     },
     "execution_count": 6,
     "metadata": {},
     "output_type": "execute_result"
    }
   ],
   "source": [
    "def find_max(numbers):\n",
    "    current_max = numbers[0]\n",
    "\n",
    "    for num in numbers:\n",
    "        if num > current_max:\n",
    "            current_max = num\n",
    "\n",
    "    return current_max\n",
    "\n",
    "find_max([-5, -9, -2, -12]) #Output :  -2  \n"
   ]
  }
 ],
 "metadata": {
  "kernelspec": {
   "display_name": "Python 3",
   "language": "python",
   "name": "python3"
  },
  "language_info": {
   "codemirror_mode": {
    "name": "ipython",
    "version": 3
   },
   "file_extension": ".py",
   "mimetype": "text/x-python",
   "name": "python",
   "nbconvert_exporter": "python",
   "pygments_lexer": "ipython3",
   "version": "3.13.1"
  }
 },
 "nbformat": 4,
 "nbformat_minor": 5
}
