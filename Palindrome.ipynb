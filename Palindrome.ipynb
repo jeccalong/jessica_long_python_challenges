{
 "cells": [
  {
   "cell_type": "markdown",
   "id": "930fcb48",
   "metadata": {},
   "source": [
    "Define a function called is_palindrome that accepts a single string."
   ]
  },
  {
   "cell_type": "code",
   "execution_count": 1,
   "id": "d210ac0a",
   "metadata": {},
   "outputs": [],
   "source": [
    "def is_palindrome(text):\n",
    "    pass"
   ]
  },
  {
   "cell_type": "markdown",
   "id": "c2218763",
   "metadata": {},
   "source": [
    "Return True if the string is a palindrome, and False otherwise."
   ]
  },
  {
   "cell_type": "code",
   "execution_count": 5,
   "id": "f75010d6",
   "metadata": {},
   "outputs": [
    {
     "name": "stdout",
     "output_type": "stream",
     "text": [
      "False\n",
      "True\n"
     ]
    }
   ],
   "source": [
    "def is_palindrome(text):\n",
    "    return text == text[::-1]\n",
    "\n",
    "print(is_palindrome(\"water\"))\n",
    "print(is_palindrome(\"patap\"))"
   ]
  },
  {
   "cell_type": "markdown",
   "id": "cfcec084",
   "metadata": {},
   "source": [
    "Normalize the string by:\n",
    "\n",
    "    Converting it to lowercase\n",
    "    Removing spaces (and optionally punctuation)"
   ]
  },
  {
   "cell_type": "markdown",
   "id": "c0f38b36",
   "metadata": {},
   "source": [
    "Reverse the normalized string and compare it to the original normalized version."
   ]
  },
  {
   "cell_type": "code",
   "execution_count": null,
   "id": "b3600b4c",
   "metadata": {},
   "outputs": [
    {
     "name": "stdout",
     "output_type": "stream",
     "text": [
      "False\n",
      "True\n"
     ]
    }
   ],
   "source": [
    "def is_palindrome(text):\n",
    "    normalized = text.lower().replace(\" \", \"\")\n",
    "    return normalized == normalized[::-1]\n",
    "\n",
    "print (is_palindrome(\"Alien Starship\"))\n",
    "print (is_palindrome(\"Abc De dCb a\"))"
   ]
  }
 ],
 "metadata": {
  "kernelspec": {
   "display_name": "Python 3",
   "language": "python",
   "name": "python3"
  },
  "language_info": {
   "codemirror_mode": {
    "name": "ipython",
    "version": 3
   },
   "file_extension": ".py",
   "mimetype": "text/x-python",
   "name": "python",
   "nbconvert_exporter": "python",
   "pygments_lexer": "ipython3",
   "version": "3.13.1"
  }
 },
 "nbformat": 4,
 "nbformat_minor": 5
}
